{
 "cells": [
  {
   "cell_type": "markdown",
   "metadata": {},
   "source": [
    "### Note\n",
    "* Instructions have been included for each segment. You do not have to follow them exactly, but they are included to help you think through the steps."
   ]
  },
  {
   "cell_type": "code",
   "execution_count": 2,
   "metadata": {},
   "outputs": [],
   "source": [
    "# Dependencies and Setup\n",
    "import pandas as pd\n",
    "\n",
    "# File to Load (Remember to Change These)\n",
    "school_data_to_load = \"Resources/schools_complete.csv\"\n",
    "student_data_to_load = \"Resources/students_complete.csv\"\n",
    "\n",
    "# Read School and Student Data File and store into Pandas DataFrames\n",
    "school_data = pd.read_csv(school_data_to_load)\n",
    "student_data = pd.read_csv(student_data_to_load)\n",
    "\n",
    "# Combine the data into a single dataset.  \n",
    "school_data_complete = pd.merge(student_data, school_data, how=\"left\", on=[\"school_name\", \"school_name\"])"
   ]
  },
  {
   "cell_type": "markdown",
   "metadata": {},
   "source": [
    "## District Summary\n",
    "\n",
    "* Calculate the total number of schools\n",
    "\n",
    "* Calculate the total number of students\n",
    "\n",
    "* Calculate the total budget\n",
    "\n",
    "* Calculate the average math score \n",
    "\n",
    "* Calculate the average reading score\n",
    "\n",
    "* Calculate the percentage of students with a passing math score (70 or greater)\n",
    "\n",
    "* Calculate the percentage of students with a passing reading score (70 or greater)\n",
    "\n",
    "* Calculate the percentage of students who passed math **and** reading (% Overall Passing)\n",
    "\n",
    "* Create a dataframe to hold the above results\n",
    "\n",
    "* Optional: give the displayed data cleaner formatting"
   ]
  },
  {
   "cell_type": "code",
   "execution_count": 5,
   "metadata": {},
   "outputs": [
    {
     "data": {
      "text/html": [
       "<div>\n",
       "<style scoped>\n",
       "    .dataframe tbody tr th:only-of-type {\n",
       "        vertical-align: middle;\n",
       "    }\n",
       "\n",
       "    .dataframe tbody tr th {\n",
       "        vertical-align: top;\n",
       "    }\n",
       "\n",
       "    .dataframe thead th {\n",
       "        text-align: right;\n",
       "    }\n",
       "</style>\n",
       "<table border=\"1\" class=\"dataframe\">\n",
       "  <thead>\n",
       "    <tr style=\"text-align: right;\">\n",
       "      <th></th>\n",
       "      <th>Total Schools</th>\n",
       "      <th>Total Students</th>\n",
       "      <th>Total Budget</th>\n",
       "      <th>Average Math Score</th>\n",
       "      <th>Average Reading Score</th>\n",
       "      <th>% Passing Math</th>\n",
       "      <th>% Passing Reading</th>\n",
       "      <th>% Overall Passing</th>\n",
       "    </tr>\n",
       "  </thead>\n",
       "  <tbody>\n",
       "    <tr>\n",
       "      <th>0</th>\n",
       "      <td>15</td>\n",
       "      <td>39,170</td>\n",
       "      <td>$24,649,428.00</td>\n",
       "      <td>78.985371</td>\n",
       "      <td>81.87784</td>\n",
       "      <td>74.980853</td>\n",
       "      <td>85.805463</td>\n",
       "      <td>65.172326</td>\n",
       "    </tr>\n",
       "  </tbody>\n",
       "</table>\n",
       "</div>"
      ],
      "text/plain": [
       "   Total Schools Total Students    Total Budget  Average Math Score  \\\n",
       "0             15         39,170  $24,649,428.00           78.985371   \n",
       "\n",
       "   Average Reading Score  % Passing Math  % Passing Reading  % Overall Passing  \n",
       "0               81.87784       74.980853          85.805463          65.172326  "
      ]
     },
     "execution_count": 5,
     "metadata": {},
     "output_type": "execute_result"
    }
   ],
   "source": []
  },
  {
   "cell_type": "code",
   "execution_count": 3,
   "metadata": {
    "tags": []
   },
   "outputs": [
    {
     "output_type": "stream",
     "name": "stdout",
     "text": "<class 'pandas.core.frame.DataFrame'>\nInt64Index: 39170 entries, 0 to 39169\nData columns (total 11 columns):\n #   Column         Non-Null Count  Dtype \n---  ------         --------------  ----- \n 0   Student ID     39170 non-null  int64 \n 1   student_name   39170 non-null  object\n 2   gender         39170 non-null  object\n 3   grade          39170 non-null  object\n 4   school_name    39170 non-null  object\n 5   reading_score  39170 non-null  int64 \n 6   math_score     39170 non-null  int64 \n 7   School ID      39170 non-null  int64 \n 8   type           39170 non-null  object\n 9   size           39170 non-null  int64 \n 10  budget         39170 non-null  int64 \ndtypes: int64(6), object(5)\nmemory usage: 3.6+ MB\n"
    }
   ],
   "source": [
    "#total number of schools \n",
    "school_data_df = school_data_complete\n",
    "school_data_df.info()"
   ]
  },
  {
   "cell_type": "code",
   "execution_count": 4,
   "metadata": {
    "tags": []
   },
   "outputs": [
    {
     "output_type": "stream",
     "name": "stdout",
     "text": "Number of school is 15\n"
    }
   ],
   "source": [
    "number_of_schools_df = school_data_df['School ID'].nunique()\n",
    "print ('Number of school is', (number_of_schools_df))"
   ]
  },
  {
   "cell_type": "code",
   "execution_count": 5,
   "metadata": {
    "tags": []
   },
   "outputs": [
    {
     "output_type": "stream",
     "name": "stdout",
     "text": "Number of students is 39170\n"
    }
   ],
   "source": [
    "#Calculate the total number of students\n",
    "number_of_students_df = school_data_complete['Student ID'].nunique()\n",
    "print ('Number of students is', (number_of_students_df))"
   ]
  },
  {
   "cell_type": "code",
   "execution_count": 6,
   "metadata": {},
   "outputs": [
    {
     "output_type": "execute_result",
     "data": {
      "text/plain": "24649428"
     },
     "metadata": {},
     "execution_count": 6
    }
   ],
   "source": [
    "#Calculate the total budget\n",
    "total_budget = school_data[\"budget\"].sum()\n",
    "total_budget"
   ]
  },
  {
   "cell_type": "code",
   "execution_count": 7,
   "metadata": {},
   "outputs": [
    {
     "output_type": "execute_result",
     "data": {
      "text/plain": "78.98537145774827"
     },
     "metadata": {},
     "execution_count": 7
    }
   ],
   "source": [
    "#Calculate the average math score\n",
    "average_maths = school_data_df[\"math_score\"].mean()\n",
    "average_maths"
   ]
  },
  {
   "cell_type": "code",
   "execution_count": 8,
   "metadata": {},
   "outputs": [
    {
     "output_type": "execute_result",
     "data": {
      "text/plain": "81.87784018381414"
     },
     "metadata": {},
     "execution_count": 8
    }
   ],
   "source": [
    "#Calculate the average reading score\n",
    "average_reading = school_data_df[\"reading_score\"].mean()\n",
    "average_reading"
   ]
  },
  {
   "cell_type": "code",
   "execution_count": 9,
   "metadata": {
    "tags": []
   },
   "outputs": [
    {
     "output_type": "execute_result",
     "data": {
      "text/plain": "74.9808526933878"
     },
     "metadata": {},
     "execution_count": 9
    }
   ],
   "source": [
    "#Calculate the percentage of students with a passing math score (70 or greater)\n",
    "passing_math = school_data_df.loc[school_data_df['math_score'] >= 70]['math_score'].count()\n",
    "perct_pass_math = (passing_math/number_of_students_df)*100\n",
    "perct_pass_math"
   ]
  },
  {
   "cell_type": "code",
   "execution_count": 10,
   "metadata": {},
   "outputs": [
    {
     "output_type": "execute_result",
     "data": {
      "text/plain": "85.80546336482001"
     },
     "metadata": {},
     "execution_count": 10
    }
   ],
   "source": [
    "#Calculate the percentage of students with a passing reading score (70 or greater)\n",
    "passing_reading = school_data_df.loc[school_data_df['reading_score'] >= 70]['reading_score'].count()\n",
    "perct_pass_reading = (passing_reading/number_of_students_df)*100\n",
    "perct_pass_reading"
   ]
  },
  {
   "cell_type": "code",
   "execution_count": 11,
   "metadata": {},
   "outputs": [
    {
     "output_type": "execute_result",
     "data": {
      "text/plain": "65.17232575950983"
     },
     "metadata": {},
     "execution_count": 11
    }
   ],
   "source": [
    "#Calculate the percentage of students who passed math and reading (% Overall Passing)\n",
    "math_reading_pass = school_data_complete[(school_data_complete['math_score'] >= 70) & (school_data_complete['reading_score'] >= 70)]['Student ID'].count()/number_of_students_df*100\n",
    "math_reading_pass"
   ]
  },
  {
   "cell_type": "code",
   "execution_count": 12,
   "metadata": {},
   "outputs": [
    {
     "output_type": "execute_result",
     "data": {
      "text/plain": "   Total Number Schools  Total Students  Total Budget  Average Math Score  \\\n0                    15           39170      24649428           78.985371   \n\n   Average reading score  % passing maths  % passing reading  % passing both  \n0               81.87784        74.980853          85.805463       65.172326  ",
      "text/html": "<div>\n<style scoped>\n    .dataframe tbody tr th:only-of-type {\n        vertical-align: middle;\n    }\n\n    .dataframe tbody tr th {\n        vertical-align: top;\n    }\n\n    .dataframe thead th {\n        text-align: right;\n    }\n</style>\n<table border=\"1\" class=\"dataframe\">\n  <thead>\n    <tr style=\"text-align: right;\">\n      <th></th>\n      <th>Total Number Schools</th>\n      <th>Total Students</th>\n      <th>Total Budget</th>\n      <th>Average Math Score</th>\n      <th>Average reading score</th>\n      <th>% passing maths</th>\n      <th>% passing reading</th>\n      <th>% passing both</th>\n    </tr>\n  </thead>\n  <tbody>\n    <tr>\n      <th>0</th>\n      <td>15</td>\n      <td>39170</td>\n      <td>24649428</td>\n      <td>78.985371</td>\n      <td>81.87784</td>\n      <td>74.980853</td>\n      <td>85.805463</td>\n      <td>65.172326</td>\n    </tr>\n  </tbody>\n</table>\n</div>"
     },
     "metadata": {},
     "execution_count": 12
    }
   ],
   "source": [
    "#Create a dataframe to hold the above results\n",
    "school_data_summary = pd.DataFrame({\n",
    "    \"Total Number Schools\" : [number_of_schools_df],\n",
    "    \"Total Students\" : [number_of_students_df],\n",
    "    \"Total Budget\" : [total_budget],\n",
    "    \"Average Math Score\" : [average_maths],\n",
    "    \"Average reading score\" : [average_reading],\n",
    "    \"% passing maths\" : [perct_pass_math],\n",
    "    \"% passing reading\" : [perct_pass_reading],\n",
    "    \"% passing both\" : [math_reading_pass],\n",
    "   \n",
    "\n",
    "})\n",
    "school_data_summary"
   ]
  },
  {
   "cell_type": "code",
   "execution_count": 13,
   "metadata": {},
   "outputs": [
    {
     "output_type": "execute_result",
     "data": {
      "text/plain": "<pandas.io.formats.style.Styler at 0x13ce51bc288>",
      "text/html": "<style  type=\"text/css\" >\n</style><table id=\"T_b1da2f6c_e9f3_11ea_8e88_08719055d024\" ><thead>    <tr>        <th class=\"blank level0\" ></th>        <th class=\"col_heading level0 col0\" >Total Number Schools</th>        <th class=\"col_heading level0 col1\" >Total Students</th>        <th class=\"col_heading level0 col2\" >Total Budget</th>        <th class=\"col_heading level0 col3\" >Average Math Score</th>        <th class=\"col_heading level0 col4\" >Average reading score</th>        <th class=\"col_heading level0 col5\" >% passing maths</th>        <th class=\"col_heading level0 col6\" >% passing reading</th>        <th class=\"col_heading level0 col7\" >% passing both</th>    </tr></thead><tbody>\n                <tr>\n                        <th id=\"T_b1da2f6c_e9f3_11ea_8e88_08719055d024level0_row0\" class=\"row_heading level0 row0\" >0</th>\n                        <td id=\"T_b1da2f6c_e9f3_11ea_8e88_08719055d024row0_col0\" class=\"data row0 col0\" >15</td>\n                        <td id=\"T_b1da2f6c_e9f3_11ea_8e88_08719055d024row0_col1\" class=\"data row0 col1\" >39170</td>\n                        <td id=\"T_b1da2f6c_e9f3_11ea_8e88_08719055d024row0_col2\" class=\"data row0 col2\" >$24,649,428.00</td>\n                        <td id=\"T_b1da2f6c_e9f3_11ea_8e88_08719055d024row0_col3\" class=\"data row0 col3\" >78.99</td>\n                        <td id=\"T_b1da2f6c_e9f3_11ea_8e88_08719055d024row0_col4\" class=\"data row0 col4\" >81.88</td>\n                        <td id=\"T_b1da2f6c_e9f3_11ea_8e88_08719055d024row0_col5\" class=\"data row0 col5\" >74.98%</td>\n                        <td id=\"T_b1da2f6c_e9f3_11ea_8e88_08719055d024row0_col6\" class=\"data row0 col6\" >85.81%</td>\n                        <td id=\"T_b1da2f6c_e9f3_11ea_8e88_08719055d024row0_col7\" class=\"data row0 col7\" >65.17%</td>\n            </tr>\n    </tbody></table>"
     },
     "metadata": {},
     "execution_count": 13
    }
   ],
   "source": [
    "#format table\n",
    "school_data_summary.style.format({\"Total Budget\": \"${:,.2f}\",\n",
    "                                  \"Average Math Score\": \"{:.2f}\",\n",
    "                                  \"Average reading score\": \"{:.2f}\",\n",
    "                                  \"% passing maths\" : \"{:.2f}%\",\n",
    "                                  \"% passing reading\": \"{:.2f}%\",\n",
    "                                  \"% passing both\" : \"{:.2f}%\",\n",
    "\n",
    "\n",
    "\n",
    "})"
   ]
  },
  {
   "cell_type": "markdown",
   "metadata": {},
   "source": [
    "## School Summary"
   ]
  },
  {
   "cell_type": "markdown",
   "metadata": {},
   "source": [
    "* Create an overview table that summarizes key metrics about each school, including:\n",
    "  * School Name\n",
    "  * School Type\n",
    "  * Total Students\n",
    "  * Total School Budget\n",
    "  * Per Student Budget\n",
    "  * Average Math Score\n",
    "  * Average Reading Score\n",
    "  * % Passing Math\n",
    "  * % Passing Reading\n",
    "  * % Overall Passing (The percentage of students that passed math **and** reading.)\n",
    "  \n",
    "* Create a dataframe to hold the above results"
   ]
  },
  {
   "cell_type": "code",
   "execution_count": 14,
   "metadata": {
    "tags": []
   },
   "outputs": [
    {
     "output_type": "execute_result",
     "data": {
      "text/plain": "<pandas.core.groupby.generic.DataFrameGroupBy object at 0x0000013CE9A60748>"
     },
     "metadata": {},
     "execution_count": 14
    }
   ],
   "source": [
    "#group by school name\n",
    "school_names = school_data_df.set_index(\"school_name\").groupby([\"school_name\"])\n",
    "school_names"
   ]
  },
  {
   "cell_type": "code",
   "execution_count": 101,
   "metadata": {},
   "outputs": [
    {
     "output_type": "execute_result",
     "data": {
      "text/plain": "school_name\nHuang High School        District\nFigueroa High School     District\nShelton High School       Charter\nHernandez High School    District\nGriffin High School       Charter\nName: type, dtype: object"
     },
     "metadata": {},
     "execution_count": 101
    }
   ],
   "source": [
    "#school type\n",
    "school_types = school_data.set_index(\"school_name\")[\"type\"]\n",
    "school_types.head()"
   ]
  },
  {
   "cell_type": "code",
   "execution_count": 100,
   "metadata": {},
   "outputs": [
    {
     "output_type": "execute_result",
     "data": {
      "text/plain": "school_name\nBailey High School      4976\nCabrera High School     1858\nFigueroa High School    2949\nFord High School        2739\nGriffin High School     1468\nName: Student ID, dtype: int64"
     },
     "metadata": {},
     "execution_count": 100
    }
   ],
   "source": [
    "#total students\n",
    "students_per_school = school_names['Student ID'].count()\n",
    "students_per_school.head()"
   ]
  },
  {
   "cell_type": "code",
   "execution_count": 99,
   "metadata": {},
   "outputs": [
    {
     "output_type": "execute_result",
     "data": {
      "text/plain": "school_name\nHuang High School        1910635\nFigueroa High School     1884411\nShelton High School      1056600\nHernandez High School    3022020\nGriffin High School       917500\nName: budget, dtype: int64"
     },
     "metadata": {},
     "execution_count": 99
    }
   ],
   "source": [
    "#total school budget\n",
    "school_budget = school_data.set_index(\"school_name\")[\"budget\"]\n",
    "school_budget.head()"
   ]
  },
  {
   "cell_type": "code",
   "execution_count": 98,
   "metadata": {},
   "outputs": [
    {
     "output_type": "execute_result",
     "data": {
      "text/plain": "school_name\nHuang High School        655.0\nFigueroa High School     639.0\nShelton High School      600.0\nHernandez High School    652.0\nGriffin High School      625.0\ndtype: float64"
     },
     "metadata": {},
     "execution_count": 98
    }
   ],
   "source": [
    "#per student budget\n",
    "budget_per_student = school_data.set_index(\"school_name\")[\"budget\"]/school_data.set_index(\"school_name\")[\"size\"]\n",
    "budget_per_student.head()"
   ]
  },
  {
   "cell_type": "code",
   "execution_count": 27,
   "metadata": {},
   "outputs": [
    {
     "output_type": "execute_result",
     "data": {
      "text/plain": "78.98537145774827"
     },
     "metadata": {},
     "execution_count": 27
    }
   ],
   "source": [
    "#average math score\n",
    "average_math_score = school_data_df[\"math_score\"].mean()\n",
    "average_math_score"
   ]
  },
  {
   "cell_type": "code",
   "execution_count": 28,
   "metadata": {},
   "outputs": [],
   "source": [
    "#average reading score\n",
    "average_read_score = school_data_df[\"reading_score\"].mean()"
   ]
  },
  {
   "cell_type": "code",
   "execution_count": 97,
   "metadata": {
    "tags": []
   },
   "outputs": [
    {
     "output_type": "execute_result",
     "data": {
      "text/plain": "school_name\nBailey High School      66.680064\nCabrera High School     94.133477\nFigueroa High School    65.988471\nFord High School        68.309602\nGriffin High School     93.392371\nName: Student ID, dtype: float64"
     },
     "metadata": {},
     "execution_count": 97
    }
   ],
   "source": [
    "#percent passing reading\n",
    "percent_passing_maths= school_data_df[school_data_df[\"math_score\"] >= 70].groupby(\"school_name\")[\"Student ID\"].count()/students_per_school*100\n",
    "percent_passing_maths.head()"
   ]
  },
  {
   "cell_type": "code",
   "execution_count": 96,
   "metadata": {
    "tags": []
   },
   "outputs": [
    {
     "output_type": "execute_result",
     "data": {
      "text/plain": "school_name\nBailey High School      81.933280\nCabrera High School     97.039828\nFigueroa High School    80.739234\nFord High School        79.299014\nGriffin High School     97.138965\nName: Student ID, dtype: float64"
     },
     "metadata": {},
     "execution_count": 96
    }
   ],
   "source": [
    "#percent passing reading\n",
    "percent_passing_read= school_data_df[school_data_df[\"reading_score\"] >= 70].groupby(\"school_name\")[\"Student ID\"].count()/students_per_school*100\n",
    "percent_passing_read.head()"
   ]
  },
  {
   "cell_type": "code",
   "execution_count": 95,
   "metadata": {},
   "outputs": [
    {
     "output_type": "execute_result",
     "data": {
      "text/plain": "school_name\nBailey High School      54.642283\nCabrera High School     91.334769\nFigueroa High School    53.204476\nFord High School        54.289887\nGriffin High School     90.599455\nName: Student ID, dtype: float64"
     },
     "metadata": {},
     "execution_count": 95
    }
   ],
   "source": [
    "#percent passing maths and reading by school\n",
    "math_reading_pass = school_data_df[(school_data_df[\"math_score\"] >= 70) & (school_data_df[\"reading_score\"] >= 70)].groupby('school_name')['Student ID'].count()/students_per_school*100\n",
    "math_reading_pass.head()\n"
   ]
  },
  {
   "cell_type": "code",
   "execution_count": 94,
   "metadata": {},
   "outputs": [
    {
     "output_type": "execute_result",
     "data": {
      "text/plain": "                     School type  Total students  Total School budget  \\\nBailey High School      District            4976              3124928   \nCabrera High School      Charter            1858              1081356   \nFigueroa High School    District            2949              1884411   \nFord High School        District            2739              1763916   \nGriffin High School      Charter            1468               917500   \n\n                      Per student budget  Average math score  \\\nBailey High School                 628.0           78.985371   \nCabrera High School                582.0           78.985371   \nFigueroa High School               639.0           78.985371   \nFord High School                   644.0           78.985371   \nGriffin High School                625.0           78.985371   \n\n                      Average reading score  % passing maths  \\\nBailey High School                 81.87784        66.680064   \nCabrera High School                81.87784        94.133477   \nFigueroa High School               81.87784        65.988471   \nFord High School                   81.87784        68.309602   \nGriffin High School                81.87784        93.392371   \n\n                      % passing reading  % passing both  \nBailey High School            81.933280       54.642283  \nCabrera High School           97.039828       91.334769  \nFigueroa High School          80.739234       53.204476  \nFord High School              79.299014       54.289887  \nGriffin High School           97.138965       90.599455  ",
      "text/html": "<div>\n<style scoped>\n    .dataframe tbody tr th:only-of-type {\n        vertical-align: middle;\n    }\n\n    .dataframe tbody tr th {\n        vertical-align: top;\n    }\n\n    .dataframe thead th {\n        text-align: right;\n    }\n</style>\n<table border=\"1\" class=\"dataframe\">\n  <thead>\n    <tr style=\"text-align: right;\">\n      <th></th>\n      <th>School type</th>\n      <th>Total students</th>\n      <th>Total School budget</th>\n      <th>Per student budget</th>\n      <th>Average math score</th>\n      <th>Average reading score</th>\n      <th>% passing maths</th>\n      <th>% passing reading</th>\n      <th>% passing both</th>\n    </tr>\n  </thead>\n  <tbody>\n    <tr>\n      <th>Bailey High School</th>\n      <td>District</td>\n      <td>4976</td>\n      <td>3124928</td>\n      <td>628.0</td>\n      <td>78.985371</td>\n      <td>81.87784</td>\n      <td>66.680064</td>\n      <td>81.933280</td>\n      <td>54.642283</td>\n    </tr>\n    <tr>\n      <th>Cabrera High School</th>\n      <td>Charter</td>\n      <td>1858</td>\n      <td>1081356</td>\n      <td>582.0</td>\n      <td>78.985371</td>\n      <td>81.87784</td>\n      <td>94.133477</td>\n      <td>97.039828</td>\n      <td>91.334769</td>\n    </tr>\n    <tr>\n      <th>Figueroa High School</th>\n      <td>District</td>\n      <td>2949</td>\n      <td>1884411</td>\n      <td>639.0</td>\n      <td>78.985371</td>\n      <td>81.87784</td>\n      <td>65.988471</td>\n      <td>80.739234</td>\n      <td>53.204476</td>\n    </tr>\n    <tr>\n      <th>Ford High School</th>\n      <td>District</td>\n      <td>2739</td>\n      <td>1763916</td>\n      <td>644.0</td>\n      <td>78.985371</td>\n      <td>81.87784</td>\n      <td>68.309602</td>\n      <td>79.299014</td>\n      <td>54.289887</td>\n    </tr>\n    <tr>\n      <th>Griffin High School</th>\n      <td>Charter</td>\n      <td>1468</td>\n      <td>917500</td>\n      <td>625.0</td>\n      <td>78.985371</td>\n      <td>81.87784</td>\n      <td>93.392371</td>\n      <td>97.138965</td>\n      <td>90.599455</td>\n    </tr>\n  </tbody>\n</table>\n</div>"
     },
     "metadata": {},
     "execution_count": 94
    }
   ],
   "source": [
    "#Create an overview table that summarizes key metrics about each school\n",
    "school_data_summary = pd.DataFrame({\n",
    "    \"School type\": school_types,\n",
    "    \"Total students\": students_per_school,\n",
    "    \"Total School budget\": school_budget,\n",
    "    \"Per student budget\": budget_per_student,\n",
    "    \"Average math score\" : average_math_score,\n",
    "    \"Average reading score\" : average_read_score,\n",
    "    \"% passing maths\": percent_passing_maths,\n",
    "    \"% passing reading\": percent_passing_read ,\n",
    "    \"% passing both\": math_reading_pass,\n",
    "   \n",
    "\n",
    "})\n",
    "school_data_summary.head()"
   ]
  },
  {
   "cell_type": "markdown",
   "metadata": {},
   "source": [
    "## Top Performing Schools (By % Overall Passing)"
   ]
  },
  {
   "cell_type": "markdown",
   "metadata": {},
   "source": [
    "* Sort and display the top five performing schools by % overall passing."
   ]
  },
  {
   "cell_type": "code",
   "execution_count": 44,
   "metadata": {},
   "outputs": [
    {
     "output_type": "execute_result",
     "data": {
      "text/plain": "                    School type  Total students  Total School budget  \\\nCabrera High School     Charter            1858              1081356   \nThomas High School      Charter            1635              1043130   \nGriffin High School     Charter            1468               917500   \nWilson High School      Charter            2283              1319574   \nPena High School        Charter             962               585858   \n\n                     Per student budget  Average math score  \\\nCabrera High School               582.0           78.985371   \nThomas High School                638.0           78.985371   \nGriffin High School               625.0           78.985371   \nWilson High School                578.0           78.985371   \nPena High School                  609.0           78.985371   \n\n                     Average reading score  % passing maths  \\\nCabrera High School               81.87784        94.133477   \nThomas High School                81.87784        93.272171   \nGriffin High School               81.87784        93.392371   \nWilson High School                81.87784        93.867718   \nPena High School                  81.87784        94.594595   \n\n                     % passing reading  % passing both  \nCabrera High School          97.039828       91.334769  \nThomas High School           97.308869       90.948012  \nGriffin High School          97.138965       90.599455  \nWilson High School           96.539641       90.582567  \nPena High School             95.945946       90.540541  ",
      "text/html": "<div>\n<style scoped>\n    .dataframe tbody tr th:only-of-type {\n        vertical-align: middle;\n    }\n\n    .dataframe tbody tr th {\n        vertical-align: top;\n    }\n\n    .dataframe thead th {\n        text-align: right;\n    }\n</style>\n<table border=\"1\" class=\"dataframe\">\n  <thead>\n    <tr style=\"text-align: right;\">\n      <th></th>\n      <th>School type</th>\n      <th>Total students</th>\n      <th>Total School budget</th>\n      <th>Per student budget</th>\n      <th>Average math score</th>\n      <th>Average reading score</th>\n      <th>% passing maths</th>\n      <th>% passing reading</th>\n      <th>% passing both</th>\n    </tr>\n  </thead>\n  <tbody>\n    <tr>\n      <th>Cabrera High School</th>\n      <td>Charter</td>\n      <td>1858</td>\n      <td>1081356</td>\n      <td>582.0</td>\n      <td>78.985371</td>\n      <td>81.87784</td>\n      <td>94.133477</td>\n      <td>97.039828</td>\n      <td>91.334769</td>\n    </tr>\n    <tr>\n      <th>Thomas High School</th>\n      <td>Charter</td>\n      <td>1635</td>\n      <td>1043130</td>\n      <td>638.0</td>\n      <td>78.985371</td>\n      <td>81.87784</td>\n      <td>93.272171</td>\n      <td>97.308869</td>\n      <td>90.948012</td>\n    </tr>\n    <tr>\n      <th>Griffin High School</th>\n      <td>Charter</td>\n      <td>1468</td>\n      <td>917500</td>\n      <td>625.0</td>\n      <td>78.985371</td>\n      <td>81.87784</td>\n      <td>93.392371</td>\n      <td>97.138965</td>\n      <td>90.599455</td>\n    </tr>\n    <tr>\n      <th>Wilson High School</th>\n      <td>Charter</td>\n      <td>2283</td>\n      <td>1319574</td>\n      <td>578.0</td>\n      <td>78.985371</td>\n      <td>81.87784</td>\n      <td>93.867718</td>\n      <td>96.539641</td>\n      <td>90.582567</td>\n    </tr>\n    <tr>\n      <th>Pena High School</th>\n      <td>Charter</td>\n      <td>962</td>\n      <td>585858</td>\n      <td>609.0</td>\n      <td>78.985371</td>\n      <td>81.87784</td>\n      <td>94.594595</td>\n      <td>95.945946</td>\n      <td>90.540541</td>\n    </tr>\n  </tbody>\n</table>\n</div>"
     },
     "metadata": {},
     "execution_count": 44
    }
   ],
   "source": [
    "#Sort and display the top five performing schools by % overall passing\n",
    "top_5_schools = school_data_summary.sort_values('% passing both', ascending= False)\n",
    "top_5_schools.head(5)"
   ]
  },
  {
   "cell_type": "markdown",
   "metadata": {},
   "source": [
    "## Bottom Performing Schools (By % Overall Passing)"
   ]
  },
  {
   "cell_type": "markdown",
   "metadata": {},
   "source": [
    "* Sort and display the five worst-performing schools by % overall passing."
   ]
  },
  {
   "cell_type": "code",
   "execution_count": 47,
   "metadata": {},
   "outputs": [
    {
     "output_type": "execute_result",
     "data": {
      "text/plain": "                      School type  Total students  Total School budget  \\\nRodriguez High School    District            3999              2547363   \nFigueroa High School     District            2949              1884411   \nHuang High School        District            2917              1910635   \nHernandez High School    District            4635              3022020   \nJohnson High School      District            4761              3094650   \n\n                       Per student budget  Average math score  \\\nRodriguez High School               637.0           78.985371   \nFigueroa High School                639.0           78.985371   \nHuang High School                   655.0           78.985371   \nHernandez High School               652.0           78.985371   \nJohnson High School                 650.0           78.985371   \n\n                       Average reading score  % passing maths  \\\nRodriguez High School               81.87784        66.366592   \nFigueroa High School                81.87784        65.988471   \nHuang High School                   81.87784        65.683922   \nHernandez High School               81.87784        66.752967   \nJohnson High School                 81.87784        66.057551   \n\n                       % passing reading  % passing both  \nRodriguez High School          80.220055       52.988247  \nFigueroa High School           80.739234       53.204476  \nHuang High School              81.316421       53.513884  \nHernandez High School          80.862999       53.527508  \nJohnson High School            81.222432       53.539172  ",
      "text/html": "<div>\n<style scoped>\n    .dataframe tbody tr th:only-of-type {\n        vertical-align: middle;\n    }\n\n    .dataframe tbody tr th {\n        vertical-align: top;\n    }\n\n    .dataframe thead th {\n        text-align: right;\n    }\n</style>\n<table border=\"1\" class=\"dataframe\">\n  <thead>\n    <tr style=\"text-align: right;\">\n      <th></th>\n      <th>School type</th>\n      <th>Total students</th>\n      <th>Total School budget</th>\n      <th>Per student budget</th>\n      <th>Average math score</th>\n      <th>Average reading score</th>\n      <th>% passing maths</th>\n      <th>% passing reading</th>\n      <th>% passing both</th>\n    </tr>\n  </thead>\n  <tbody>\n    <tr>\n      <th>Rodriguez High School</th>\n      <td>District</td>\n      <td>3999</td>\n      <td>2547363</td>\n      <td>637.0</td>\n      <td>78.985371</td>\n      <td>81.87784</td>\n      <td>66.366592</td>\n      <td>80.220055</td>\n      <td>52.988247</td>\n    </tr>\n    <tr>\n      <th>Figueroa High School</th>\n      <td>District</td>\n      <td>2949</td>\n      <td>1884411</td>\n      <td>639.0</td>\n      <td>78.985371</td>\n      <td>81.87784</td>\n      <td>65.988471</td>\n      <td>80.739234</td>\n      <td>53.204476</td>\n    </tr>\n    <tr>\n      <th>Huang High School</th>\n      <td>District</td>\n      <td>2917</td>\n      <td>1910635</td>\n      <td>655.0</td>\n      <td>78.985371</td>\n      <td>81.87784</td>\n      <td>65.683922</td>\n      <td>81.316421</td>\n      <td>53.513884</td>\n    </tr>\n    <tr>\n      <th>Hernandez High School</th>\n      <td>District</td>\n      <td>4635</td>\n      <td>3022020</td>\n      <td>652.0</td>\n      <td>78.985371</td>\n      <td>81.87784</td>\n      <td>66.752967</td>\n      <td>80.862999</td>\n      <td>53.527508</td>\n    </tr>\n    <tr>\n      <th>Johnson High School</th>\n      <td>District</td>\n      <td>4761</td>\n      <td>3094650</td>\n      <td>650.0</td>\n      <td>78.985371</td>\n      <td>81.87784</td>\n      <td>66.057551</td>\n      <td>81.222432</td>\n      <td>53.539172</td>\n    </tr>\n  </tbody>\n</table>\n</div>"
     },
     "metadata": {},
     "execution_count": 47
    }
   ],
   "source": [
    "bottom_5_schools = school_data_summary.sort_values('% passing both')\n",
    "bottom_5_schools.head(5)"
   ]
  },
  {
   "cell_type": "markdown",
   "metadata": {
    "collapsed": true
   },
   "source": [
    "## Math Scores by Grade"
   ]
  },
  {
   "cell_type": "markdown",
   "metadata": {},
   "source": [
    "* Create a table that lists the average Reading Score for students of each grade level (9th, 10th, 11th, 12th) at each school.\n",
    "\n",
    "  * Create a pandas series for each grade. Hint: use a conditional statement.\n",
    "  \n",
    "  * Group each series by school\n",
    "  \n",
    "  * Combine the series into a dataframe\n",
    "  \n",
    "  * Optional: give the displayed data cleaner formatting"
   ]
  },
  {
   "cell_type": "code",
   "execution_count": 52,
   "metadata": {},
   "outputs": [],
   "source": [
    "#Create a pandas series for each grade. Hint: use a conditional statement.\n",
    "nine = school_data_df.loc[school_data_df[\"grade\"] == \"9th\"].groupby(\"school_name\")[\"math_score\"].mean()\n",
    "ten = school_data_df.loc[school_data_df[\"grade\"] == \"10th\"].groupby(\"school_name\")[\"math_score\"].mean()\n",
    "eleven = school_data_df.loc[school_data_df[\"grade\"] == \"11th\"].groupby(\"school_name\")[\"math_score\"].mean()\n",
    "twelve = school_data_df.loc[school_data_df[\"grade\"] == \"12th\"].groupby(\"school_name\")[\"math_score\"].mean()"
   ]
  },
  {
   "cell_type": "code",
   "execution_count": 93,
   "metadata": {},
   "outputs": [
    {
     "output_type": "execute_result",
     "data": {
      "text/plain": "                           Yr 9      Yr 10      Yr 11      Yr 12\nschool_name                                                     \nBailey High School    81.303155  80.907183  80.945643  80.912451\nCabrera High School   83.676136  84.253219  83.788382  84.287958\nFigueroa High School  81.198598  81.408912  80.640339  81.384863\nFord High School      80.632653  81.262712  80.403642  80.662338\nGriffin High School   83.369193  83.706897  84.288089  84.013699",
      "text/html": "<div>\n<style scoped>\n    .dataframe tbody tr th:only-of-type {\n        vertical-align: middle;\n    }\n\n    .dataframe tbody tr th {\n        vertical-align: top;\n    }\n\n    .dataframe thead th {\n        text-align: right;\n    }\n</style>\n<table border=\"1\" class=\"dataframe\">\n  <thead>\n    <tr style=\"text-align: right;\">\n      <th></th>\n      <th>Yr 9</th>\n      <th>Yr 10</th>\n      <th>Yr 11</th>\n      <th>Yr 12</th>\n    </tr>\n    <tr>\n      <th>school_name</th>\n      <th></th>\n      <th></th>\n      <th></th>\n      <th></th>\n    </tr>\n  </thead>\n  <tbody>\n    <tr>\n      <th>Bailey High School</th>\n      <td>81.303155</td>\n      <td>80.907183</td>\n      <td>80.945643</td>\n      <td>80.912451</td>\n    </tr>\n    <tr>\n      <th>Cabrera High School</th>\n      <td>83.676136</td>\n      <td>84.253219</td>\n      <td>83.788382</td>\n      <td>84.287958</td>\n    </tr>\n    <tr>\n      <th>Figueroa High School</th>\n      <td>81.198598</td>\n      <td>81.408912</td>\n      <td>80.640339</td>\n      <td>81.384863</td>\n    </tr>\n    <tr>\n      <th>Ford High School</th>\n      <td>80.632653</td>\n      <td>81.262712</td>\n      <td>80.403642</td>\n      <td>80.662338</td>\n    </tr>\n    <tr>\n      <th>Griffin High School</th>\n      <td>83.369193</td>\n      <td>83.706897</td>\n      <td>84.288089</td>\n      <td>84.013699</td>\n    </tr>\n  </tbody>\n</table>\n</div>"
     },
     "metadata": {},
     "execution_count": 93
    }
   ],
   "source": [
    "#Combine the series into a dataframe\n",
    "math_scores = pd.DataFrame({\n",
    "        \"Yr 9\": nine,\n",
    "        \"Yr 10\": ten,\n",
    "        \"Yr 11\": eleven,\n",
    "        \"Yr 12\": twelve\n",
    "})\n",
    "\n",
    "math_scores.head()"
   ]
  },
  {
   "cell_type": "code",
   "execution_count": 55,
   "metadata": {},
   "outputs": [],
   "source": [
    "## Reading Score by Grade \n",
    "#Create a pandas series for each grade. Hint: use a conditional statement.\n",
    "nine = school_data_df.loc[school_data_df[\"grade\"] == \"9th\"].groupby(\"school_name\")[\"reading_score\"].mean()\n",
    "ten = school_data_df.loc[school_data_df[\"grade\"] == \"10th\"].groupby(\"school_name\")[\"reading_score\"].mean()\n",
    "eleven = school_data_df.loc[school_data_df[\"grade\"] == \"11th\"].groupby(\"school_name\")[\"reading_score\"].mean()\n",
    "twelve = school_data_df.loc[school_data_df[\"grade\"] == \"12th\"].groupby(\"school_name\")[\"reading_score\"].mean()"
   ]
  },
  {
   "cell_type": "code",
   "execution_count": 92,
   "metadata": {},
   "outputs": [
    {
     "output_type": "execute_result",
     "data": {
      "text/plain": "                           Yr 9      Yr 10      Yr 11      Yr 12\nschool_name                                                     \nBailey High School    81.303155  80.907183  80.945643  80.912451\nCabrera High School   83.676136  84.253219  83.788382  84.287958\nFigueroa High School  81.198598  81.408912  80.640339  81.384863\nFord High School      80.632653  81.262712  80.403642  80.662338\nGriffin High School   83.369193  83.706897  84.288089  84.013699",
      "text/html": "<div>\n<style scoped>\n    .dataframe tbody tr th:only-of-type {\n        vertical-align: middle;\n    }\n\n    .dataframe tbody tr th {\n        vertical-align: top;\n    }\n\n    .dataframe thead th {\n        text-align: right;\n    }\n</style>\n<table border=\"1\" class=\"dataframe\">\n  <thead>\n    <tr style=\"text-align: right;\">\n      <th></th>\n      <th>Yr 9</th>\n      <th>Yr 10</th>\n      <th>Yr 11</th>\n      <th>Yr 12</th>\n    </tr>\n    <tr>\n      <th>school_name</th>\n      <th></th>\n      <th></th>\n      <th></th>\n      <th></th>\n    </tr>\n  </thead>\n  <tbody>\n    <tr>\n      <th>Bailey High School</th>\n      <td>81.303155</td>\n      <td>80.907183</td>\n      <td>80.945643</td>\n      <td>80.912451</td>\n    </tr>\n    <tr>\n      <th>Cabrera High School</th>\n      <td>83.676136</td>\n      <td>84.253219</td>\n      <td>83.788382</td>\n      <td>84.287958</td>\n    </tr>\n    <tr>\n      <th>Figueroa High School</th>\n      <td>81.198598</td>\n      <td>81.408912</td>\n      <td>80.640339</td>\n      <td>81.384863</td>\n    </tr>\n    <tr>\n      <th>Ford High School</th>\n      <td>80.632653</td>\n      <td>81.262712</td>\n      <td>80.403642</td>\n      <td>80.662338</td>\n    </tr>\n    <tr>\n      <th>Griffin High School</th>\n      <td>83.369193</td>\n      <td>83.706897</td>\n      <td>84.288089</td>\n      <td>84.013699</td>\n    </tr>\n  </tbody>\n</table>\n</div>"
     },
     "metadata": {},
     "execution_count": 92
    }
   ],
   "source": [
    "reading_scores = pd.DataFrame({\n",
    "        \"Yr 9\": nine,\n",
    "        \"Yr 10\": ten,\n",
    "        \"Yr 11\": eleven,\n",
    "        \"Yr 12\": twelve\n",
    "})\n",
    "\n",
    "reading_scores.head()"
   ]
  },
  {
   "cell_type": "markdown",
   "metadata": {},
   "source": [
    "* Perform the same operations as above for reading scores"
   ]
  },
  {
   "cell_type": "markdown",
   "metadata": {},
   "source": [
    "## Scores by School Spending"
   ]
  },
  {
   "cell_type": "markdown",
   "metadata": {},
   "source": [
    "* Create a table that breaks down school performances based on average Spending Ranges (Per Student). Use 4 reasonable bins to group school spending. Include in the table each of the following:\n",
    "  * Average Math Score\n",
    "  * Average Reading Score\n",
    "  * % Passing Math\n",
    "  * % Passing Reading\n",
    "  * Overall Passing Rate (Average of the above two)"
   ]
  },
  {
   "cell_type": "code",
   "execution_count": 122,
   "metadata": {},
   "outputs": [],
   "source": [
    "#Create 4 bins for school spending per student\n",
    "av_spend_bins = [0, 584, 629, 644, 675]\n",
    "group_names = [\"<$584\", \"$585-629\", \"$630-644\", \"$645-$675\"]\n"
   ]
  },
  {
   "cell_type": "code",
   "execution_count": 123,
   "metadata": {},
   "outputs": [],
   "source": [
    "school_data_df['av_spend_bins'] = pd.cut(school_data_df['budget']/school_data_df['size'], av_spend_bins, labels= group_names)\n",
    "by_spending = school_data_df.groupby('av_spend_bins')\n"
   ]
  },
  {
   "cell_type": "code",
   "execution_count": 82,
   "metadata": {},
   "outputs": [
    {
     "output_type": "execute_result",
     "data": {
      "text/plain": "av_spend_bins\n<$584        83.363065\n$585-629     79.982873\n$630-644     77.821056\n$645-$675    77.049297\nName: math_score, dtype: float64"
     },
     "metadata": {},
     "execution_count": 82
    }
   ],
   "source": [
    "#average math score\n",
    "math_average = by_spending[\"math_score\"].mean()\n",
    "math_average"
   ]
  },
  {
   "cell_type": "code",
   "execution_count": 84,
   "metadata": {},
   "outputs": [
    {
     "output_type": "execute_result",
     "data": {
      "text/plain": "av_spend_bins\n<$584        83.964039\n$585-629     82.312643\n$630-644     81.301007\n$645-$675    81.005604\nName: reading_score, dtype: float64"
     },
     "metadata": {},
     "execution_count": 84
    }
   ],
   "source": [
    "#average reading score\n",
    "reading_average = by_spending[\"reading_score\"].mean()\n",
    "reading_average"
   ]
  },
  {
   "cell_type": "code",
   "execution_count": 88,
   "metadata": {},
   "outputs": [
    {
     "output_type": "execute_result",
     "data": {
      "text/plain": "av_spend_bins\n<$584        93.702889\n$585-629     79.109851\n$630-644     70.623565\n$645-$675    66.230813\nName: Student ID, dtype: float64"
     },
     "metadata": {},
     "execution_count": 88
    }
   ],
   "source": [
    "#% passing math\n",
    "percent_pass_math = school_data_df[school_data_df[\"math_score\"] >=70].groupby(\"av_spend_bins\")[\"Student ID\"].count()/by_spending[\"Student ID\"].count()*100\n",
    "percent_pass_math"
   ]
  },
  {
   "cell_type": "code",
   "execution_count": 91,
   "metadata": {},
   "outputs": [
    {
     "output_type": "execute_result",
     "data": {
      "text/plain": "av_spend_bins\n<$584        96.686558\n$585-629     88.513145\n$630-644     82.600247\n$645-$675    81.109397\nName: Student ID, dtype: float64"
     },
     "metadata": {},
     "execution_count": 91
    }
   ],
   "source": [
    "#% passing reading\n",
    "percent_pass_read = school_data_df[school_data_df[\"reading_score\"] >=70].groupby(\"av_spend_bins\")[\"Student ID\"].count()/by_spending[\"Student ID\"].count()*100\n",
    "percent_pass_read"
   ]
  },
  {
   "cell_type": "code",
   "execution_count": 103,
   "metadata": {},
   "outputs": [
    {
     "output_type": "execute_result",
     "data": {
      "text/plain": "av_spend_bins\n<$584        95.194724\n$585-629     83.811498\n$630-644     76.611906\n$645-$675    73.670105\nName: Student ID, dtype: float64"
     },
     "metadata": {},
     "execution_count": 103
    }
   ],
   "source": [
    "#overall passing rate(average of above two)\n",
    "overall_pass = (percent_pass_math + percent_pass_read)/2\n",
    "overall_pass.head()                     "
   ]
  },
  {
   "cell_type": "code",
   "execution_count": 112,
   "metadata": {},
   "outputs": [
    {
     "output_type": "execute_result",
     "data": {
      "text/plain": "                               Avg Math Score  Avg Reading Score  \\\nSpend range (Avg per student)                                      \n<$584                               83.363065          83.964039   \n$585-629                            79.982873          82.312643   \n$630-644                            77.821056          81.301007   \n$645-$675                           77.049297          81.005604   \n\n                               % Passing Math  % Passing Reading  \\\nSpend range (Avg per student)                                      \n<$584                               93.702889          96.686558   \n$585-629                            79.109851          88.513145   \n$630-644                            70.623565          82.600247   \n$645-$675                           66.230813          81.109397   \n\n                               Avg Math & Reading  \nSpend range (Avg per student)                      \n<$584                                   95.194724  \n$585-629                                83.811498  \n$630-644                                76.611906  \n$645-$675                               73.670105  ",
      "text/html": "<div>\n<style scoped>\n    .dataframe tbody tr th:only-of-type {\n        vertical-align: middle;\n    }\n\n    .dataframe tbody tr th {\n        vertical-align: top;\n    }\n\n    .dataframe thead th {\n        text-align: right;\n    }\n</style>\n<table border=\"1\" class=\"dataframe\">\n  <thead>\n    <tr style=\"text-align: right;\">\n      <th></th>\n      <th>Avg Math Score</th>\n      <th>Avg Reading Score</th>\n      <th>% Passing Math</th>\n      <th>% Passing Reading</th>\n      <th>Avg Math &amp; Reading</th>\n    </tr>\n    <tr>\n      <th>Spend range (Avg per student)</th>\n      <th></th>\n      <th></th>\n      <th></th>\n      <th></th>\n      <th></th>\n    </tr>\n  </thead>\n  <tbody>\n    <tr>\n      <th>&lt;$584</th>\n      <td>83.363065</td>\n      <td>83.964039</td>\n      <td>93.702889</td>\n      <td>96.686558</td>\n      <td>95.194724</td>\n    </tr>\n    <tr>\n      <th>$585-629</th>\n      <td>79.982873</td>\n      <td>82.312643</td>\n      <td>79.109851</td>\n      <td>88.513145</td>\n      <td>83.811498</td>\n    </tr>\n    <tr>\n      <th>$630-644</th>\n      <td>77.821056</td>\n      <td>81.301007</td>\n      <td>70.623565</td>\n      <td>82.600247</td>\n      <td>76.611906</td>\n    </tr>\n    <tr>\n      <th>$645-$675</th>\n      <td>77.049297</td>\n      <td>81.005604</td>\n      <td>66.230813</td>\n      <td>81.109397</td>\n      <td>73.670105</td>\n    </tr>\n  </tbody>\n</table>\n</div>"
     },
     "metadata": {},
     "execution_count": 112
    }
   ],
   "source": [
    "scores_by_school_spend = pd.DataFrame({\n",
    "    \"Avg Math Score\": math_average,\n",
    "    \"Avg Reading Score\": reading_average,\n",
    "    \"% Passing Math\": percent_pass_math,\n",
    "    \"% Passing Reading\": percent_pass_read,\n",
    "    \"Avg Math & Reading\": overall_pass\n",
    "            \n",
    "})\n",
    "\n",
    "scores_by_school_spend.index.name = \"Spend range (Avg per student)\"\n",
    "scores_by_school_spend = scores_by_school_spend.reindex(group_names)\n",
    "\n",
    "scores_by_school_spend"
   ]
  },
  {
   "cell_type": "markdown",
   "metadata": {},
   "source": [
    "## Scores by School Size"
   ]
  },
  {
   "cell_type": "code",
   "execution_count": 129,
   "metadata": {},
   "outputs": [
    {
     "output_type": "execute_result",
     "data": {
      "text/plain": "['Small(<1000)', 'Medium(1000-2000)', 'Large(2000-5000)']"
     },
     "metadata": {},
     "execution_count": 129
    }
   ],
   "source": [
    "#Create 4 bins for school spending per student\n",
    "school_size_bins = [0, 999, 1999, 4999]\n",
    "group_names = [\"Small(<1000)\", \"Medium(1000-2000)\", \"Large(2000-5000)\"]\n",
    "group_names"
   ]
  },
  {
   "cell_type": "code",
   "execution_count": 130,
   "metadata": {},
   "outputs": [
    {
     "output_type": "execute_result",
     "data": {
      "text/plain": "<pandas.core.groupby.generic.DataFrameGroupBy object at 0x0000013CEDC6FD48>"
     },
     "metadata": {},
     "execution_count": 130
    }
   ],
   "source": [
    "school_data_df['school_size_bins'] = pd.cut(school_data_df['size'], school_size_bins, labels= group_names)\n",
    "by_size = school_data_df.groupby('school_size_bins')\n",
    "by_size"
   ]
  },
  {
   "cell_type": "code",
   "execution_count": 131,
   "metadata": {},
   "outputs": [
    {
     "output_type": "execute_result",
     "data": {
      "text/plain": "school_size_bins\nSmall(<1000)         83.828654\nMedium(1000-2000)    83.372682\nLarge(2000-5000)     77.477597\nName: math_score, dtype: float64"
     },
     "metadata": {},
     "execution_count": 131
    }
   ],
   "source": [
    "#average math score\n",
    "math_average = by_size[\"math_score\"].mean()\n",
    "math_average"
   ]
  },
  {
   "cell_type": "code",
   "execution_count": 132,
   "metadata": {},
   "outputs": [
    {
     "output_type": "execute_result",
     "data": {
      "text/plain": "school_size_bins\nSmall(<1000)         83.974082\nMedium(1000-2000)    83.867989\nLarge(2000-5000)     81.198674\nName: reading_score, dtype: float64"
     },
     "metadata": {},
     "execution_count": 132
    }
   ],
   "source": [
    "#average reading score\n",
    "reading_average = by_size[\"reading_score\"].mean()\n",
    "reading_average"
   ]
  },
  {
   "cell_type": "code",
   "execution_count": 138,
   "metadata": {},
   "outputs": [
    {
     "output_type": "execute_result",
     "data": {
      "text/plain": "school_size_bins\nSmall(<1000)         93.952484\nMedium(1000-2000)    93.616522\nLarge(2000-5000)     68.652380\nName: Student ID, dtype: float64"
     },
     "metadata": {},
     "execution_count": 138
    }
   ],
   "source": [
    "#% passing math\n",
    "perc_pass_math = school_data_df[school_data_df[\"math_score\"] >=70].groupby(\"school_size_bins\")[\"Student ID\"].count()/by_size[\"Student ID\"].count()*100\n",
    "perc_pass_math"
   ]
  },
  {
   "cell_type": "code",
   "execution_count": 139,
   "metadata": {},
   "outputs": [
    {
     "output_type": "execute_result",
     "data": {
      "text/plain": "school_size_bins\nSmall(<1000)         96.040317\nMedium(1000-2000)    96.773058\nLarge(2000-5000)     82.125158\nName: Student ID, dtype: float64"
     },
     "metadata": {},
     "execution_count": 139
    }
   ],
   "source": [
    "#% passing math\n",
    "perc_pass_read = school_data_df[school_data_df[\"reading_score\"] >=70].groupby(\"school_size_bins\")[\"Student ID\"].count()/by_size[\"Student ID\"].count()*100\n",
    "perc_pass_read"
   ]
  },
  {
   "cell_type": "code",
   "execution_count": 148,
   "metadata": {},
   "outputs": [
    {
     "output_type": "execute_result",
     "data": {
      "text/plain": "school_size_bins\nSmall(<1000)         90.136789\nMedium(1000-2000)    90.624267\nLarge(2000-5000)     56.574046\nName: Student ID, dtype: float64"
     },
     "metadata": {},
     "execution_count": 148
    }
   ],
   "source": [
    "#percent passing maths and reading \n",
    "math_reading = school_data_df[(school_data_df[\"math_score\"] >= 70) & (school_data_df[\"reading_score\"] >= 70)].groupby(\"school_size_bins\")['Student ID'].count()/by_size[\"Student ID\"].count()*100\n",
    "math_reading"
   ]
  },
  {
   "cell_type": "code",
   "execution_count": 149,
   "metadata": {},
   "outputs": [
    {
     "output_type": "execute_result",
     "data": {
      "text/plain": "                   Avg Math Score  Avg Reading Score  % Passing Math  \\\nSchool Size                                                            \nSmall(<1000)            83.828654          83.974082       93.952484   \nMedium(1000-2000)       83.372682          83.867989       93.616522   \nLarge(2000-5000)        77.477597          81.198674       68.652380   \n\n                   % Passing Reading  Avg Math & Reading  \nSchool Size                                               \nSmall(<1000)               96.040317           90.136789  \nMedium(1000-2000)          96.773058           90.624267  \nLarge(2000-5000)           82.125158           56.574046  ",
      "text/html": "<div>\n<style scoped>\n    .dataframe tbody tr th:only-of-type {\n        vertical-align: middle;\n    }\n\n    .dataframe tbody tr th {\n        vertical-align: top;\n    }\n\n    .dataframe thead th {\n        text-align: right;\n    }\n</style>\n<table border=\"1\" class=\"dataframe\">\n  <thead>\n    <tr style=\"text-align: right;\">\n      <th></th>\n      <th>Avg Math Score</th>\n      <th>Avg Reading Score</th>\n      <th>% Passing Math</th>\n      <th>% Passing Reading</th>\n      <th>Avg Math &amp; Reading</th>\n    </tr>\n    <tr>\n      <th>School Size</th>\n      <th></th>\n      <th></th>\n      <th></th>\n      <th></th>\n      <th></th>\n    </tr>\n  </thead>\n  <tbody>\n    <tr>\n      <th>Small(&lt;1000)</th>\n      <td>83.828654</td>\n      <td>83.974082</td>\n      <td>93.952484</td>\n      <td>96.040317</td>\n      <td>90.136789</td>\n    </tr>\n    <tr>\n      <th>Medium(1000-2000)</th>\n      <td>83.372682</td>\n      <td>83.867989</td>\n      <td>93.616522</td>\n      <td>96.773058</td>\n      <td>90.624267</td>\n    </tr>\n    <tr>\n      <th>Large(2000-5000)</th>\n      <td>77.477597</td>\n      <td>81.198674</td>\n      <td>68.652380</td>\n      <td>82.125158</td>\n      <td>56.574046</td>\n    </tr>\n  </tbody>\n</table>\n</div>"
     },
     "metadata": {},
     "execution_count": 149
    }
   ],
   "source": [
    "scores_by_school_size = pd.DataFrame({\n",
    "    \"Avg Math Score\": math_average,\n",
    "    \"Avg Reading Score\": reading_average,\n",
    "    \"% Passing Math\": percent_pass_math,\n",
    "    \"% Passing Reading\": percent_pass_read,\n",
    "    \"Avg Math & Reading\": math_reading\n",
    "            \n",
    "})\n",
    "\n",
    "scores_by_school_size.index.name = \"School Size\"\n",
    "scores_by_school_size = scores_by_school_size.reindex(group_names)\n",
    "\n",
    "scores_by_school_size"
   ]
  },
  {
   "cell_type": "code",
   "execution_count": null,
   "metadata": {},
   "outputs": [],
   "source": [
    "school_data_df['school_size_bins'] = pd.cut(school_data_df['budget']/school_data_df['size'], av_spend_bins, labels= group_names)\n",
    "by_ = school_data_df.groupby('av_spend_bins')"
   ]
  },
  {
   "cell_type": "markdown",
   "metadata": {},
   "source": [
    "* Perform the same operations as above, based on school size."
   ]
  },
  {
   "cell_type": "markdown",
   "metadata": {},
   "source": [
    "## Scores by School Type"
   ]
  },
  {
   "cell_type": "code",
   "execution_count": 150,
   "metadata": {},
   "outputs": [],
   "source": [
    "# group by type of school\n",
    "groupby_type = school_data_df.groupby(\"type\")"
   ]
  },
  {
   "cell_type": "code",
   "execution_count": 153,
   "metadata": {},
   "outputs": [
    {
     "output_type": "execute_result",
     "data": {
      "text/plain": "type\nCharter     83.406183\nDistrict    76.987026\nName: math_score, dtype: float64"
     },
     "metadata": {},
     "execution_count": 153
    }
   ],
   "source": [
    "#average math score\n",
    "maths_avgs = groupby_type[\"math_score\"].mean()\n",
    "maths_avgs"
   ]
  },
  {
   "cell_type": "code",
   "execution_count": 152,
   "metadata": {},
   "outputs": [
    {
     "output_type": "execute_result",
     "data": {
      "text/plain": "type\nCharter     83.902821\nDistrict    80.962485\nName: reading_score, dtype: float64"
     },
     "metadata": {},
     "execution_count": 152
    }
   ],
   "source": [
    "#average reading score\n",
    "reading_avgs = groupby_type[\"reading_score\"].mean()\n",
    "reading_avgs"
   ]
  },
  {
   "cell_type": "code",
   "execution_count": 164,
   "metadata": {},
   "outputs": [
    {
     "output_type": "execute_result",
     "data": {
      "text/plain": "type\nCharter     93.701821\nDistrict    66.518387\nName: Student ID, dtype: float64"
     },
     "metadata": {},
     "execution_count": 164
    }
   ],
   "source": [
    "#% passing math\n",
    "percent_pass_maths = school_data_df[school_data_df[\"math_score\"] >=70].groupby(\"type\")[\"Student ID\"].count()/groupby_type[\"Student ID\"].count()*100\n",
    "percent_pass_maths"
   ]
  },
  {
   "cell_type": "code",
   "execution_count": 165,
   "metadata": {},
   "outputs": [
    {
     "output_type": "execute_result",
     "data": {
      "text/plain": "type\nCharter     96.645891\nDistrict    80.905249\nName: Student ID, dtype: float64"
     },
     "metadata": {},
     "execution_count": 165
    }
   ],
   "source": [
    "#% passing reading\n",
    "percent_pass_reading = school_data_df[school_data_df[\"reading_score\"] >=70].groupby(\"type\")[\"Student ID\"].count()/groupby_type[\"Student ID\"].count()*100\n",
    "percent_pass_reading"
   ]
  },
  {
   "cell_type": "code",
   "execution_count": 166,
   "metadata": {},
   "outputs": [
    {
     "output_type": "execute_result",
     "data": {
      "text/plain": "type\nCharter     90.560932\nDistrict    53.695878\nName: Student ID, dtype: float64"
     },
     "metadata": {},
     "execution_count": 166
    }
   ],
   "source": [
    "#percent passing maths and reading \n",
    "math_reading_combined = school_data_df[(school_data_df[\"math_score\"] >= 70) & (school_data_df[\"reading_score\"] >= 70)].groupby(\"type\")['Student ID'].count()/groupby_type[\"Student ID\"].count()*100\n",
    "math_reading_combined"
   ]
  },
  {
   "cell_type": "code",
   "execution_count": 168,
   "metadata": {},
   "outputs": [
    {
     "output_type": "execute_result",
     "data": {
      "text/plain": "          Average Math Score  Average Reading Score  % Passing Math  \\\ntype                                                                  \nCharter            83.406183              83.902821       93.701821   \nDistrict           76.987026              80.962485       66.518387   \n\n          % Passing Reading  %Combined Maths Reading  \ntype                                                  \nCharter           96.645891                90.560932  \nDistrict          80.905249                53.695878  ",
      "text/html": "<div>\n<style scoped>\n    .dataframe tbody tr th:only-of-type {\n        vertical-align: middle;\n    }\n\n    .dataframe tbody tr th {\n        vertical-align: top;\n    }\n\n    .dataframe thead th {\n        text-align: right;\n    }\n</style>\n<table border=\"1\" class=\"dataframe\">\n  <thead>\n    <tr style=\"text-align: right;\">\n      <th></th>\n      <th>Average Math Score</th>\n      <th>Average Reading Score</th>\n      <th>% Passing Math</th>\n      <th>% Passing Reading</th>\n      <th>%Combined Maths Reading</th>\n    </tr>\n    <tr>\n      <th>type</th>\n      <th></th>\n      <th></th>\n      <th></th>\n      <th></th>\n      <th></th>\n    </tr>\n  </thead>\n  <tbody>\n    <tr>\n      <th>Charter</th>\n      <td>83.406183</td>\n      <td>83.902821</td>\n      <td>93.701821</td>\n      <td>96.645891</td>\n      <td>90.560932</td>\n    </tr>\n    <tr>\n      <th>District</th>\n      <td>76.987026</td>\n      <td>80.962485</td>\n      <td>66.518387</td>\n      <td>80.905249</td>\n      <td>53.695878</td>\n    </tr>\n  </tbody>\n</table>\n</div>"
     },
     "metadata": {},
     "execution_count": 168
    }
   ],
   "source": [
    "#create dataframe\n",
    "scores_by_school_type = pd.DataFrame({\n",
    "    \"Average Math Score\": maths_avgs,\n",
    "    \"Average Reading Score\": reading_avgs,\n",
    "    \"% Passing Math\": percent_pass_maths,\n",
    "    \"% Passing Reading\": percent_pass_reading,\n",
    "    \"%Combined Maths Reading\": math_reading_combined})\n",
    "\n",
    "scores_by_school_type"
   ]
  },
  {
   "cell_type": "markdown",
   "metadata": {},
   "source": [
    "* Perform the same operations as above, based on school type"
   ]
  },
  {
   "cell_type": "code",
   "execution_count": null,
   "metadata": {},
   "outputs": [],
   "source": []
  }
 ],
 "metadata": {
  "anaconda-cloud": {},
  "kernel_info": {
   "name": "python3"
  },
  "kernelspec": {
   "display_name": "Python 3",
   "language": "python",
   "name": "python3"
  },
  "language_info": {
   "codemirror_mode": {
    "name": "ipython",
    "version": 3
   },
   "file_extension": ".py",
   "mimetype": "text/x-python",
   "name": "python",
   "nbconvert_exporter": "python",
   "pygments_lexer": "ipython3",
   "version": "3.7.6-final"
  },
  "latex_envs": {
   "LaTeX_envs_menu_present": true,
   "autoclose": false,
   "autocomplete": true,
   "bibliofile": "biblio.bib",
   "cite_by": "apalike",
   "current_citInitial": 1,
   "eqLabelWithNumbers": true,
   "eqNumInitial": 1,
   "hotkeys": {
    "equation": "Ctrl-E",
    "itemize": "Ctrl-I"
   },
   "labels_anchors": false,
   "latex_user_defs": false,
   "report_style_numbering": false,
   "user_envs_cfg": false
  },
  "nteract": {
   "version": "0.8.4"
  }
 },
 "nbformat": 4,
 "nbformat_minor": 1
}